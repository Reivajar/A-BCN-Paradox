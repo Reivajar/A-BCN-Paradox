{
 "cells": [
  {
   "cell_type": "code",
   "execution_count": 1,
   "metadata": {},
   "outputs": [],
   "source": [
    "# This notebook summarizes the simulation construction and running for net 01"
   ]
  },
  {
   "cell_type": "code",
   "execution_count": 2,
   "metadata": {},
   "outputs": [],
   "source": [
    "# Defining network file\n",
    "NET_FILE = \".\\data/grid01-bcn_06.net.xml\""
   ]
  },
  {
   "cell_type": "code",
   "execution_count": 3,
   "metadata": {},
   "outputs": [],
   "source": [
    "# Demand generation\n",
    "# Endogenous demand based on ACTIVITYGEN\n",
    "\n",
    "## Config file for parsing demographic data:\n",
    "\n",
    "ACTIVITYGEN_STAT_FILE = \".\\data/activitygen-bcn_06.stat.xml\"\n",
    "\n",
    "## Basic trip output file (without routing) as a resukt of the demand generation based on ACTIVITYGEN.\n",
    "TRIPS_FROM_ACTIVITYGEN_STAT = \".\\data/activitygen-bcn_06.trips.rou.xml\""
   ]
  },
  {
   "cell_type": "code",
   "execution_count": null,
   "metadata": {},
   "outputs": [],
   "source": [
    "# Calling ACTIVITYGEN tool in SUMO\n",
    "# Random seed set for reproductibility purposes\n",
    "\n",
    "!activitygen --net-file {NET_FILE} \\\n",
    "            --stat-file {ACTIVITYGEN_STAT_FILE} \\\n",
    "            --output-file {TRIPS_FROM_ACTIVITYGEN_STAT} \\\n",
    "            --seed 25101987"
   ]
  }
 ],
 "metadata": {
  "kernelspec": {
   "display_name": "Python 3",
   "language": "python",
   "name": "python3"
  },
  "language_info": {
   "codemirror_mode": {
    "name": "ipython",
    "version": 3
   },
   "file_extension": ".py",
   "mimetype": "text/x-python",
   "name": "python",
   "nbconvert_exporter": "python",
   "pygments_lexer": "ipython3",
   "version": "3.9.0"
  }
 },
 "nbformat": 4,
 "nbformat_minor": 4
}
