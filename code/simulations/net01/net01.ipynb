{
 "cells": [
  {
   "cell_type": "markdown",
   "metadata": {},
   "source": [
    "# Building simulation for NET 01\n",
    "This notebook summarizes the simulation construction and running for net 01"
   ]
  },
  {
   "cell_type": "code",
   "execution_count": null,
   "metadata": {},
   "outputs": [],
   "source": [
    "# Defining network file\n",
    "NET_FILE = \".\\data/grid01-bcn_06.net.xml\""
   ]
  },
  {
   "cell_type": "markdown",
   "metadata": {},
   "source": [
    "### Demand generation\n",
    "Endogenous demand based on ACTIVITYGEN"
   ]
  },
  {
   "cell_type": "code",
   "execution_count": null,
   "metadata": {},
   "outputs": [],
   "source": [
    "## Config file for parsing demographic data:\n",
    "\n",
    "ACTIVITYGEN_STAT_FILE = \".\\data/activitygen-bcn_06.stat.xml\"\n",
    "\n",
    "## Basic trip output file (without routing) as a resukt of the demand generation based on ACTIVITYGEN.\n",
    "TRIPS_FROM_ACTIVITYGEN_STAT = \".\\data/activitygen-bcn_06.trips.rou.xml\"\n",
    "\n",
    "## Routes output files from ACTIVITYGEN trips\n",
    "ROUTES_FROM_DUAROUTER_FROM_ACTIVITYGEN = \".\\data/activitygen-bcn_06.rou.xml\""
   ]
  },
  {
   "cell_type": "code",
   "execution_count": null,
   "metadata": {},
   "outputs": [],
   "source": [
    "# Calling ACTIVITYGEN tool in SUMO\n",
    "# Random seed set for reproductibility purposes\n",
    "\n",
    "!activitygen --net-file {NET_FILE} \\\n",
    "            --stat-file {ACTIVITYGEN_STAT_FILE} \\\n",
    "            --output-file {TRIPS_FROM_ACTIVITYGEN_STAT} \\\n",
    "            --seed 25101987"
   ]
  },
  {
   "cell_type": "code",
   "execution_count": null,
   "metadata": {},
   "outputs": [],
   "source": [
    "# Routing trips from ACTIVITYGEN\n",
    "# CH routing algorithm is used\n",
    "\n",
    "!duarouter --net-file {NET_FILE} \\\n",
    "            --route-files {TRIPS_FROM_ACTIVITYGEN_STAT} \\\n",
    "            --output-file {ROUTES_FROM_DUAROUTER_FROM_ACTIVITYGEN} \\\n",
    "            --routing-algorithm CH \\\n",
    "            --ignore-errors"
   ]
  },
  {
   "cell_type": "markdown",
   "metadata": {},
   "source": [
    "Passing through traffic from random trips between fringe edges"
   ]
  },
  {
   "cell_type": "code",
   "execution_count": null,
   "metadata": {},
   "outputs": [],
   "source": [
    "# creation of hourly distribution of trips based on ACTIVITYGEN output hourly histogram\n",
    "dist = [209, 226, 263, 472, 1028, 2146, 3679, 5567, 6573, 6539, 5652, 4762, 4409, 4733, 5041, 5450, 6065, 6499, 6266, 5337, 3953, 2605, 1660, 1164]\n",
    "total_random_trips = 280000\n",
    "factor = total_random_trips/sum(dist)\n",
    "random_dist = [int(element * factor) for element in dist]"
   ]
  },
  {
   "cell_type": "code",
   "execution_count": null,
   "metadata": {},
   "outputs": [],
   "source": [
    "# Creating iteratively random trips accordingly to the hourly demand\n",
    "## CREATE RANDOM FOLDER if it does not exist\n",
    "import os\n",
    "if not os.path.exists('data/random'):\n",
    "    os.makedirs('data/random')\n",
    "\n",
    "for i in range(len(random_dist)):\n",
    "    begin = 3600*i\n",
    "    end = 3600*(i+1)\n",
    "    trips = random_dist[i]\n",
    "    period = (end-begin)/trips\n",
    "    trip_prefix = str(str(i) + \"h\")\n",
    "    output_folder_1 = \"data/random/random_h_\"\n",
    "    output_folder_2_trips = \"-bcn_06.trips.rou.xml\"\n",
    "    output_folder_2_routes = \"-bcn_06.rou.xml\"\n",
    "\n",
    "    BEGIN_ARG = str(\"-b \" + str(begin))\n",
    "    END_ARG = str(\"-e \" + str(end))\n",
    "    PERIOD_ARG = str(\"-p\" + str(period))\n",
    "    OUT_TRIPS_ARG = str(\"-o\" + output_folder_1 + str(i) + output_folder_2_trips)\n",
    "    OUT_ROUTES_ARG = str(\"-r\" + output_folder_1 + str(i) + output_folder_2_routes)\n",
    "    \n",
    "    # bash SUMO command for RANDOM trips\n",
    "    # Adjust the installation path for SUMO\n",
    "    !python \"C:\\Program Files (x86)\\Eclipse\\Sumo\\tools\\randomTrips.py\" -n {NET_FILE} \\\n",
    "    --prefix={trip_prefix} \\\n",
    "    --fringe-factor 100 \\\n",
    "    {BEGIN_ARG} \\\n",
    "    {END_ARG} \\\n",
    "    {PERIOD_ARG} \\\n",
    "    --binomial 10 \\\n",
    "    \"{OUT_TRIPS_ARG}\" \\\n",
    "    --edge-permission=passenger"
   ]
  },
  {
   "cell_type": "code",
   "execution_count": null,
   "metadata": {},
   "outputs": [],
   "source": [
    "# Merging all random routing files i|n a single file\n",
    "import os\n",
    "list_trips_files = []\n",
    "for file in os.listdir(r\"data/random/\"):\n",
    "    if file.endswith(\".trips.rou.xml\"):\n",
    "        list_trips_files.append(str(\"data/random/\" + file))\n",
    "list_trips_files_str = ' '.join([str(str(elem) + ',') for elem in list_trips_files])\n",
    "list_trips_files_str = list_trips_files_str.replace(\" \",\"\")\n",
    "\n",
    "SINGLE_RANDOM_ROUTES_FILE = \"data/random/random_ALL.rou.xml\"\n",
    "\n",
    "!duarouter --net-file {NET_FILE} \\\n",
    "--route-files {list_trips_files_str[0:-1]} \\\n",
    "--output-file {SINGLE_RANDOM_ROUTES_FILE} \\\n",
    "--routing-algorithm CH \\\n",
    "--ignore-errors"
   ]
  },
  {
   "cell_type": "markdown",
   "metadata": {},
   "source": [
    "### Simulation configuration file\n",
    "A XML configuration file () is set for taking all the demand inputs, the net, and specifying the output files for results colletions."
   ]
  },
  {
   "cell_type": "code",
   "execution_count": null,
   "metadata": {},
   "outputs": [],
   "source": []
  }
 ],
 "metadata": {
  "kernelspec": {
   "display_name": "Python 3",
   "language": "python",
   "name": "python3"
  },
  "language_info": {
   "codemirror_mode": {
    "name": "ipython",
    "version": 3
   },
   "file_extension": ".py",
   "mimetype": "text/x-python",
   "name": "python",
   "nbconvert_exporter": "python",
   "pygments_lexer": "ipython3",
   "version": "3.9.0"
  }
 },
 "nbformat": 4,
 "nbformat_minor": 4
}
